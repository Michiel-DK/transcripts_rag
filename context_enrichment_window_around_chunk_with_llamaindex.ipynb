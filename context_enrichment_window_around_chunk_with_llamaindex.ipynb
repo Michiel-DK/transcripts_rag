{
 "cells": [
  {
   "cell_type": "markdown",
   "metadata": {},
   "source": [
    "# Context Enrichment Window for Document Retrieval\n",
    "\n",
    "## Overview\n",
    "\n",
    "This code implements a context enrichment window technique for document retrieval in a vector database. It enhances the standard retrieval process by adding surrounding context to each retrieved chunk, improving the coherence and completeness of the returned information.\n",
    "\n",
    "## Motivation\n",
    "\n",
    "Traditional vector search often returns isolated chunks of text, which may lack necessary context for full understanding. This approach aims to provide a more comprehensive view of the retrieved information by including neighboring text chunks.\n",
    "\n",
    "## Key Components\n",
    "\n",
    "1. PDF processing and text chunking\n",
    "2. Vector store creation using FAISS and OpenAI embeddings\n",
    "3. Custom retrieval function with context window\n",
    "4. Comparison between standard and context-enriched retrieval\n",
    "\n",
    "## Method Details\n",
    "\n",
    "### Document Preprocessing\n",
    "\n",
    "1. The PDF is read and converted to a string.\n",
    "2. The text is split into chunks with surrounding sentences\n",
    "\n",
    "### Vector Store Creation\n",
    "\n",
    "1. OpenAI embeddings are used to create vector representations of the chunks.\n",
    "2. A FAISS vector store is created from these embeddings.\n",
    "\n",
    "### Context-Enriched Retrieval\n",
    "\n",
    "LlamaIndex has a special parser for such task. [SentenceWindowNodeParser](https://docs.llamaindex.ai/en/stable/module_guides/loading/node_parsers/modules/#sentencewindownodeparser) this parser splits documents into sentences. But the resulting nodes inculde the surronding senteces with a relation structure. Then, on the query [MetadataReplacementPostProcessor](https://docs.llamaindex.ai/en/stable/module_guides/querying/node_postprocessors/node_postprocessors/#metadatareplacementpostprocessor) helps connecting back these related sentences.\n",
    "\n",
    "### Retrieval Comparison\n",
    "\n",
    "The notebook includes a section to compare standard retrieval with the context-enriched approach.\n",
    "\n",
    "## Benefits of this Approach\n",
    "\n",
    "1. Provides more coherent and contextually rich results\n",
    "2. Maintains the advantages of vector search while mitigating its tendency to return isolated text fragments\n",
    "3. Allows for flexible adjustment of the context window size\n",
    "\n",
    "## Conclusion\n",
    "\n",
    "This context enrichment window technique offers a promising way to improve the quality of retrieved information in vector-based document search systems. By providing surrounding context, it helps maintain the coherence and completeness of the retrieved information, potentially leading to better understanding and more accurate responses in downstream tasks such as question answering."
   ]
  },
  {
   "cell_type": "markdown",
   "metadata": {},
   "source": [
    "<div style=\"text-align: center;\">\n",
    "\n",
    "<img src=\"../images/vector-search-comparison_context_enrichment.svg\" alt=\"context enrichment window\" style=\"width:70%; height:auto;\">\n",
    "</div>"
   ]
  },
  {
   "cell_type": "markdown",
   "metadata": {},
   "source": [
    "### Import libraries and environment variables"
   ]
  },
  {
   "cell_type": "code",
   "execution_count": 4,
   "metadata": {},
   "outputs": [],
   "source": [
    "from llama_index.core import Settings\n",
    "from llama_index.llms.openai import OpenAI\n",
    "from llama_index.embeddings.openai import OpenAIEmbedding\n",
    "from llama_index.core.readers import SimpleDirectoryReader\n",
    "from llama_index.vector_stores.faiss import FaissVectorStore\n",
    "from llama_index.core.ingestion import IngestionPipeline\n",
    "from llama_index.core.node_parser import SentenceWindowNodeParser, SentenceSplitter\n",
    "from llama_index.core import VectorStoreIndex\n",
    "from llama_index.core.postprocessor import MetadataReplacementPostProcessor\n",
    "import faiss\n",
    "import os\n",
    "import sys\n",
    "from dotenv import load_dotenv\n",
    "from pprint import pprint\n",
    "\n",
    "sys.path.append(os.path.abspath(os.path.join(os.getcwd(), '..'))) # Add the parent directory to the path sicnce we work with notebooks\n",
    "\n",
    "# Load environment variables from a .env file\n",
    "load_dotenv()\n",
    "\n",
    "# Set the OpenAI API key environment variable\n",
    "#os.environ[\"OPENAI_API_KEY\"] = os.getenv('OPENAI_API_KEY')\n",
    "\n",
    "\n",
    "\n",
    "#ChatGroq(model=\"llama-3.1-8b-instant\", temperature=0)\n",
    "\n",
    "#CohereEmbeddings(model=\"embed-english-v3.0\")\n",
    "# Llamaindex global settings for llm and embeddings\n",
    "EMBED_DIMENSION=512\n",
    "\n",
    "\n",
    "from langchain_groq import ChatGroq\n",
    "from langchain_cohere import CohereEmbeddings\n",
    "Settings.llm = ChatGroq(model=\"llama-3.1-8b-instant\", temperature=0)\n",
    "Settings.embed_model = CohereEmbeddings(model=\"embed-english-v3.0\")"
   ]
  },
  {
   "cell_type": "markdown",
   "metadata": {},
   "source": [
    "### Read docs"
   ]
  },
  {
   "cell_type": "code",
   "execution_count": 5,
   "metadata": {},
   "outputs": [
    {
     "name": "stdout",
     "output_type": "stream",
     "text": [
      "Doc ID: 1eca7ccb-57a3-406e-86f2-5aaeb980c1f0\n",
      "Text: Understanding Climate Change   Chapter 1: Introduction to\n",
      "Climate Change   Climate change refers to significant, long -term\n",
      "changes in the global climate. The term  \"global climate\" encompasses\n",
      "the planet's overall weather patterns, including temperature,\n",
      "precipitation, and wind patterns, over an extended period. Over the\n",
      "past cent ury, human  ...\n"
     ]
    }
   ],
   "source": [
    "path = \"../data/\"\n",
    "reader = SimpleDirectoryReader(input_dir=path, required_exts=['.pdf'])\n",
    "documents = reader.load_data()\n",
    "print(documents[0])"
   ]
  },
  {
   "cell_type": "markdown",
   "metadata": {},
   "source": [
    "### Create vector store and retriever"
   ]
  },
  {
   "cell_type": "code",
   "execution_count": 6,
   "metadata": {},
   "outputs": [],
   "source": [
    "# Create FaisVectorStore to store embeddings\n",
    "fais_index = faiss.IndexFlatL2(EMBED_DIMENSION)\n",
    "vector_store = FaissVectorStore(faiss_index=fais_index)"
   ]
  },
  {
   "cell_type": "markdown",
   "metadata": {},
   "source": [
    "## Ingestion Pipelines"
   ]
  },
  {
   "cell_type": "markdown",
   "metadata": {},
   "source": [
    "### Ingestion Pipeline with Sentence Splitter"
   ]
  },
  {
   "cell_type": "code",
   "execution_count": 7,
   "metadata": {},
   "outputs": [],
   "source": [
    "base_pipeline = IngestionPipeline(\n",
    "    transformations=[SentenceSplitter()],\n",
    "    vector_store=vector_store\n",
    ")\n",
    "\n",
    "base_nodes = base_pipeline.run(documents=documents)"
   ]
  },
  {
   "cell_type": "markdown",
   "metadata": {},
   "source": [
    "### Ingestion Pipeline with Sentence Window"
   ]
  },
  {
   "cell_type": "code",
   "execution_count": 8,
   "metadata": {},
   "outputs": [],
   "source": [
    "node_parser = SentenceWindowNodeParser(\n",
    "    # How many sentences on both sides to capture. \n",
    "    # Setting this to 3 results in 7 sentences.\n",
    "    window_size=3,\n",
    "    # the metadata key for to be used in MetadataReplacementPostProcessor\n",
    "    window_metadata_key=\"window\",\n",
    "    # the metadata key that holds the original sentence\n",
    "    original_text_metadata_key=\"original_sentence\"\n",
    ")\n",
    "\n",
    "# Create a pipeline with defined document transformations and vectorstore\n",
    "pipeline = IngestionPipeline(\n",
    "    transformations=[node_parser],\n",
    "    vector_store=vector_store,\n",
    ")\n",
    "\n",
    "windowed_nodes = pipeline.run(documents=documents)"
   ]
  },
  {
   "cell_type": "markdown",
   "metadata": {},
   "source": [
    "## Querying"
   ]
  },
  {
   "cell_type": "code",
   "execution_count": 9,
   "metadata": {},
   "outputs": [],
   "source": [
    "query = \"Explain the role of deforestation and fossil fuels in climate change\""
   ]
  },
  {
   "cell_type": "markdown",
   "metadata": {},
   "source": [
    "### Querying *without* Metadata Replacement "
   ]
  },
  {
   "cell_type": "code",
   "execution_count": 10,
   "metadata": {},
   "outputs": [
    {
     "name": "stderr",
     "output_type": "stream",
     "text": [
      "/Users/michieldekoninck/.pyenv/versions/3.10.6/envs/rag/lib/python3.10/site-packages/llama_index/llms/langchain/base.py:95: LangChainDeprecationWarning: The method `BaseChatModel.predict_messages` was deprecated in langchain-core 0.1.7 and will be removed in 1.0. Use invoke instead.\n",
      "  lc_message = self._llm.predict_messages(messages=lc_messages, **kwargs)\n"
     ]
    },
    {
     "name": "stdout",
     "output_type": "stream",
     "text": [
      "Deforestation and the burning of fossil fuels are two significant contributors to climate change. When forests are cleared, the stored carbon is released into the atmosphere, exacerbating the greenhouse effect. This process not only contributes to climate change but also leads to habitat loss and species extinction.\n",
      "\n",
      "On the other hand, fossil fuels, particularly coal and oil, are major sources of CO2 emissions when burned for energy. The combustion of these fuels releases significant amounts of greenhouse gases, contributing to climate change and air quality issues. While natural gas is considered a cleaner-burning fossil fuel, its extraction and use still contribute to greenhouse gas emissions.\n",
      "\n",
      "The combined impact of deforestation and fossil fuel use has severe consequences for the environment, including rising global temperatures, more frequent natural disasters, and altered ecosystems. It is essential to address these issues through sustainable practices, such as reforestation, renewable energy adoption, and reduced consumption of fossil fuels.\n"
     ]
    }
   ],
   "source": [
    "# Create vector index from base nodes\n",
    "base_index = VectorStoreIndex(base_nodes)\n",
    "\n",
    "# Instantiate query engine from vector index\n",
    "base_query_engine = base_index.as_query_engine(\n",
    "    similarity_top_k=1,\n",
    ")\n",
    "\n",
    "# Send query to the engine to get related node(s)\n",
    "base_response = base_query_engine.query(query)\n",
    "\n",
    "print(base_response)"
   ]
  },
  {
   "cell_type": "markdown",
   "metadata": {},
   "source": [
    "#### Print Metadata of the Retrieved Node"
   ]
  },
  {
   "cell_type": "code",
   "execution_count": 11,
   "metadata": {},
   "outputs": [
    {
     "name": "stdout",
     "output_type": "stream",
     "text": [
      "{'creation_date': '2024-09-15',\n",
      " 'file_name': 'Understanding_Climate_Change.pdf',\n",
      " 'file_path': '/Users/michieldekoninck/code/Michiel-DK/rag_techniques/notebooks/../data/Understanding_Climate_Change.pdf',\n",
      " 'file_size': 206372,\n",
      " 'file_type': 'application/pdf',\n",
      " 'last_modified_date': '2024-09-15',\n",
      " 'page_label': '2'}\n"
     ]
    }
   ],
   "source": [
    "pprint(base_response.source_nodes[0].node.metadata)"
   ]
  },
  {
   "cell_type": "markdown",
   "metadata": {},
   "source": [
    "### Querying with Metadata Replacement\n",
    "\"Metadata replacement\" intutively might sound a little off topic since we're working on the base sentences. But LlamaIndex stores these \"before/after sentences\" in the metadata data of the nodes. Therefore to build back up these windows of sentences we need Metadata replacement post processor."
   ]
  },
  {
   "cell_type": "code",
   "execution_count": 12,
   "metadata": {},
   "outputs": [
    {
     "name": "stdout",
     "output_type": "stream",
     "text": [
      "Deforestation and the burning of fossil fuels are two significant contributors to climate change. When trees are cut down or burned, the stored carbon is released into the atmosphere, exacerbating the greenhouse effect. This process reduces the number of trees that can absorb CO2, further contributing to the problem. On the other hand, fossil fuels, such as coal, oil, and gas, release massive amounts of carbon dioxide when burned, also contributing to the greenhouse effect and climate change.\n"
     ]
    }
   ],
   "source": [
    "# Create window index from nodes created from SentenceWindowNodeParser\n",
    "windowed_index = VectorStoreIndex(windowed_nodes)\n",
    "\n",
    "# Instantiate query enine with MetadataReplacementPostProcessor\n",
    "windowed_query_engine = windowed_index.as_query_engine(\n",
    "    similarity_top_k=1,\n",
    "    node_postprocessors=[\n",
    "        MetadataReplacementPostProcessor(\n",
    "            target_metadata_key=\"window\" # `window_metadata_key` key defined in SentenceWindowNodeParser\n",
    "            )\n",
    "        ],\n",
    ")\n",
    "\n",
    "# Send query to the engine to get related node(s)\n",
    "windowed_response = windowed_query_engine.query(query)\n",
    "\n",
    "print(windowed_response)"
   ]
  },
  {
   "cell_type": "markdown",
   "metadata": {},
   "source": [
    "#### Print Metadata of the Retrieved Node"
   ]
  },
  {
   "cell_type": "code",
   "execution_count": 13,
   "metadata": {},
   "outputs": [
    {
     "name": "stdout",
     "output_type": "stream",
     "text": [
      "{'creation_date': '2024-09-15',\n",
      " 'file_name': 'Understanding_Climate_Change.pdf',\n",
      " 'file_path': '/Users/michieldekoninck/code/Michiel-DK/rag_techniques/notebooks/../data/Understanding_Climate_Change.pdf',\n",
      " 'file_size': 206372,\n",
      " 'file_type': 'application/pdf',\n",
      " 'last_modified_date': '2024-09-15',\n",
      " 'original_sentence': 'Deforestation in the \\n'\n",
      "                      'Amazon, Congo Basin, and Southeast Asia has significant '\n",
      "                      'impacts on global carbon cycles \\n'\n",
      "                      'and biodiversity. ',\n",
      " 'page_label': '2',\n",
      " 'window': 'When trees are cut down \\n'\n",
      "           'for timber or to clear land for agriculture, this stored carbon is '\n",
      "           'released back into the \\n'\n",
      "           'atmosphere.  Deforestation reduces the number of trees that can '\n",
      "           'absorb CO2, exa cerbating the \\n'\n",
      "           'greenhouse effect.  \\n'\n",
      "           ' Tropical Deforestation  \\n'\n",
      "           'Tropical rainforests are particularly important for carbon '\n",
      "           'storage.  Deforestation in the \\n'\n",
      "           'Amazon, Congo Basin, and Southeast Asia has significant impacts on '\n",
      "           'global carbon cycles \\n'\n",
      "           'and biodiversity.  These regions are often cleared for '\n",
      "           'agriculture, logging, and  mining, leading \\n'\n",
      "           'to habitat loss and species extinction.  \\n'\n",
      "           ' Boreal Forests  \\n'\n",
      "           'Boreal forests, found in the northern regions of North America, '\n",
      "           'Europe, and Asia, also play a \\n'\n",
      "           'crucial role in sequestering carbon.  Logging and land -use '\n",
      "           'changes in these regions contribute \\n'\n",
      "           'to climate change. '}\n"
     ]
    }
   ],
   "source": [
    "# Window and original sentence are added to the metadata\n",
    "pprint(windowed_response.source_nodes[0].node.metadata)"
   ]
  },
  {
   "cell_type": "code",
   "execution_count": null,
   "metadata": {},
   "outputs": [],
   "source": []
  }
 ],
 "metadata": {
  "kernelspec": {
   "display_name": ".venv",
   "language": "python",
   "name": "python3"
  },
  "language_info": {
   "codemirror_mode": {
    "name": "ipython",
    "version": 3
   },
   "file_extension": ".py",
   "mimetype": "text/x-python",
   "name": "python",
   "nbconvert_exporter": "python",
   "pygments_lexer": "ipython3",
   "version": "3.10.6"
  }
 },
 "nbformat": 4,
 "nbformat_minor": 2
}
