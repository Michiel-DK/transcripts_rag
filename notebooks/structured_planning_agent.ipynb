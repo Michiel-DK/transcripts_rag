{
 "cells": [
  {
   "cell_type": "code",
   "execution_count": 1,
   "metadata": {},
   "outputs": [],
   "source": [
    "from llama_index.core import Settings\n",
    "from llama_index.llms.ollama import Ollama\n",
    "from llama_index.embeddings.ollama import OllamaEmbedding\n",
    "import os\n",
    "import sys\n",
    "from dotenv import load_dotenv\n",
    "from typing import List\n",
    "from llama_index.core import Settings\n",
    "from llama_index.core.readers import SimpleDirectoryReader\n",
    "from llama_index.core.node_parser import SentenceSplitter\n",
    "from llama_index.core.ingestion import IngestionPipeline\n",
    "from llama_index.core.schema import BaseNode, TransformComponent\n",
    "from llama_index.vector_stores.faiss import FaissVectorStore\n",
    "from llama_index.core import VectorStoreIndex\n",
    "from llama_index.llms.openai import OpenAI\n",
    "from llama_index.embeddings.openai import OpenAIEmbedding\n",
    "from llama_index.legacy.retrievers.bm25_retriever import BM25Retriever\n",
    "from llama_index.core.retrievers import QueryFusionRetriever\n",
    "import faiss"
   ]
  },
  {
   "cell_type": "code",
   "execution_count": 2,
   "metadata": {},
   "outputs": [],
   "source": [
    "#Settings.llm = Ollama(model=\"llama3.1:latest\", request_timeout=120.0)\n",
    "from langchain_groq import ChatGroq\n",
    "from langchain_cohere import CohereEmbeddings\n",
    "Settings.llm = ChatGroq(model=\"llama-3.1-8b-instant\", temperature=0)\n",
    "Settings.embedding = OllamaEmbedding(model_name=\"nomic-embed-text:v1.5\")"
   ]
  },
  {
   "cell_type": "code",
   "execution_count": 3,
   "metadata": {},
   "outputs": [],
   "source": [
    "EMBED_DIMENSION=512\n"
   ]
  },
  {
   "cell_type": "code",
   "execution_count": 4,
   "metadata": {},
   "outputs": [],
   "source": [
    "# Create FaisVectorStore to store embeddings\n",
    "fais_index = faiss.IndexFlatL2(EMBED_DIMENSION)\n",
    "vector_store = FaissVectorStore(faiss_index=fais_index)"
   ]
  },
  {
   "cell_type": "code",
   "execution_count": 5,
   "metadata": {},
   "outputs": [],
   "source": [
    "class TextCleaner(TransformComponent):\n",
    "    \"\"\"\n",
    "    Transformation to be used within the ingestion pipeline.\n",
    "    Cleans clutters from texts.\n",
    "    \"\"\"\n",
    "    def __call__(self, nodes, **kwargs) -> List[BaseNode]:\n",
    "        \n",
    "        for node in nodes:\n",
    "            node.text = node.text.replace('\\t', ' ') # Replace tabs with spaces\n",
    "            node.text = node.text.replace(' \\n', ' ') # Replace paragprah seperator with spacaes\n",
    "            \n",
    "        return nodes"
   ]
  },
  {
   "cell_type": "code",
   "execution_count": 6,
   "metadata": {},
   "outputs": [],
   "source": [
    "# Pipeline instantiation with: \n",
    "# node parser, custom transformer, vector store and documents\n",
    "pipeline = IngestionPipeline(\n",
    "    transformations=[\n",
    "        SentenceSplitter(),\n",
    "        TextCleaner()\n",
    "    ],\n",
    "    vector_store=vector_store,\n",
    "    )\n",
    "\n",
    "\n",
    "# Run the pipeline to get nodes\n",
    "lyft_docs = SimpleDirectoryReader(\n",
    "        input_files=[\"../data/10k/lyft_2021.pdf\"]\n",
    "    ).load_data()\n",
    "uber_docs = SimpleDirectoryReader(\n",
    "        input_files=[\"../data/10k/uber_2021.pdf\"]\n",
    "    ).load_data()\n"
   ]
  },
  {
   "cell_type": "code",
   "execution_count": 7,
   "metadata": {},
   "outputs": [],
   "source": [
    "nodes_lyft = pipeline.run(documents=lyft_docs)\n",
    "nodes_uber = pipeline.run(documents=uber_docs)"
   ]
  },
  {
   "cell_type": "code",
   "execution_count": 8,
   "metadata": {},
   "outputs": [
    {
     "name": "stderr",
     "output_type": "stream",
     "text": [
      "/Users/michieldekoninck/.pyenv/versions/3.10.6/envs/transcripts_rag/lib/python3.10/site-packages/pydantic/_internal/_fields.py:132: UserWarning: Field \"model_name\" in HuggingFaceInferenceAPIEmbeddings has conflict with protected namespace \"model_\".\n",
      "\n",
      "You may be able to resolve this warning by setting `model_config['protected_namespaces'] = ()`.\n",
      "  warnings.warn(\n"
     ]
    }
   ],
   "source": [
    "lyft_index = VectorStoreIndex(nodes= nodes_lyft, embed_model=Settings.embedding)\n",
    "lyft_index.storage_context.persist(persist_dir=\"../storage/lyft\")"
   ]
  },
  {
   "cell_type": "code",
   "execution_count": 9,
   "metadata": {},
   "outputs": [],
   "source": [
    "uber_index = VectorStoreIndex(nodes= nodes_uber, embed_model=Settings.embedding)\n",
    "uber_index.storage_context.persist(persist_dir=\"../storage/uber\")"
   ]
  },
  {
   "cell_type": "code",
   "execution_count": 10,
   "metadata": {},
   "outputs": [],
   "source": [
    "lyft_engine = lyft_index.as_query_engine(similarity_top_k=3)\n",
    "uber_engine = uber_index.as_query_engine(similarity_top_k=3)"
   ]
  },
  {
   "cell_type": "code",
   "execution_count": 11,
   "metadata": {},
   "outputs": [],
   "source": [
    "from llama_index.core.tools import QueryEngineTool, ToolMetadata\n",
    "\n",
    "query_engine_tools = [\n",
    "    QueryEngineTool(\n",
    "        query_engine=lyft_engine,\n",
    "        metadata=ToolMetadata(\n",
    "            name=\"lyft_10k\",\n",
    "            description=(\n",
    "                \"Provides information about Lyft financials for year 2021. \"\n",
    "                \"Use a detailed plain text question as input to the tool. \"\n",
    "                \"The input is used to power a semantic search engine.\"\n",
    "            ),\n",
    "        ),\n",
    "    ),\n",
    "    QueryEngineTool(\n",
    "        query_engine=uber_engine,\n",
    "        metadata=ToolMetadata(\n",
    "            name=\"uber_10k\",\n",
    "            description=(\n",
    "                \"Provides information about Uber financials for year 2021. \"\n",
    "                \"Use a detailed plain text question as input to the tool. \"\n",
    "                \"The input is used to power a semantic search engine.\"\n",
    "            ),\n",
    "        ),\n",
    "    ),\n",
    "]"
   ]
  },
  {
   "cell_type": "code",
   "execution_count": 21,
   "metadata": {},
   "outputs": [
    {
     "data": {
      "text/plain": [
       "StructuredTool(name='lyft_10k', description='Provides information about Lyft financials for year 2021. Use a detailed plain text question as input to the tool. The input is used to power a semantic search engine.', args_schema=<class 'llama_index.core.tools.types.DefaultToolFnSchema'>, func=<BoundFunctionWrapper at 0x29c746800 for method at 0x28f665e40>)"
      ]
     },
     "execution_count": 21,
     "metadata": {},
     "output_type": "execute_result"
    }
   ],
   "source": [
    "query_engine_tools[0].to_langchain_structured_tool()"
   ]
  },
  {
   "cell_type": "code",
   "execution_count": 22,
   "metadata": {},
   "outputs": [
    {
     "name": "stdout",
     "output_type": "stream",
     "text": [
      "accelerate==0.34.2\n",
      "aiohappyeyeballs==2.4.0\n",
      "aiohttp==3.10.5\n",
      "aiosignal==1.3.1\n",
      "annotated-types==0.7.0\n",
      "anyio==4.4.0\n",
      "appnope==0.1.4\n",
      "asgiref==3.8.1\n",
      "asttokens==2.4.1\n",
      "async-timeout==4.0.3\n",
      "attrs==24.2.0\n",
      "backoff==2.2.1\n",
      "bcrypt==4.2.0\n",
      "beautifulsoup4==4.12.3\n",
      "boto3==1.35.20\n",
      "botocore==1.35.20\n",
      "build==1.2.2\n",
      "cachetools==5.5.0\n",
      "certifi==2024.8.30\n",
      "charset-normalizer==3.3.2\n",
      "chroma-hnswlib==0.7.6\n",
      "chromadb==0.5.5\n",
      "click==8.1.7\n",
      "cohere==5.9.2\n",
      "coloredlogs==15.0.1\n",
      "comm==0.2.2\n",
      "contourpy==1.3.0\n",
      "cycler==0.12.1\n",
      "dataclasses-json==0.6.7\n",
      "datasets==3.0.0\n",
      "debugpy==1.8.5\n",
      "decorator==5.1.1\n",
      "Deprecated==1.2.14\n",
      "dill==0.3.8\n",
      "dirtyjson==1.0.8\n",
      "diskcache==5.6.3\n",
      "distro==1.9.0\n",
      "evaluate==0.4.3\n",
      "exceptiongroup==1.2.2\n",
      "executing==2.1.0\n",
      "faiss-cpu==1.8.0.post1\n",
      "fastapi==0.114.2\n",
      "fastavro==1.9.7\n",
      "filelock==3.16.0\n",
      "flatbuffers==24.3.25\n",
      "fonttools==4.53.1\n",
      "frozenlist==1.4.1\n",
      "fsspec==2024.6.1\n",
      "google-auth==2.34.0\n",
      "googleapis-common-protos==1.65.0\n",
      "greenlet==3.1.0\n",
      "groq==0.11.0\n",
      "grpcio==1.66.1\n",
      "h11==0.14.0\n",
      "httpcore==1.0.5\n",
      "httptools==0.6.1\n",
      "httpx==0.27.2\n",
      "httpx-sse==0.4.0\n",
      "huggingface-hub==0.23.5\n",
      "humanfriendly==10.0\n",
      "idna==3.10\n",
      "importlib_metadata==8.4.0\n",
      "importlib_resources==6.4.5\n",
      "ipdb==0.13.13\n",
      "ipykernel==6.29.5\n",
      "ipython==8.27.0\n",
      "jedi==0.19.1\n",
      "Jinja2==3.1.4\n",
      "jiter==0.5.0\n",
      "jmespath==1.0.1\n",
      "joblib==1.4.2\n",
      "jsonpatch==1.33\n",
      "jsonpointer==3.0.0\n",
      "jupyter_client==8.6.2\n",
      "jupyter_core==5.7.2\n",
      "kiwisolver==1.4.7\n",
      "kubernetes==30.1.0\n",
      "langchain==0.3.0\n",
      "langchain-cohere==0.3.0\n",
      "langchain-community==0.3.0\n",
      "langchain-core==0.3.0\n",
      "langchain-experimental==0.3.0\n",
      "langchain-groq==0.2.0\n",
      "langchain-text-splitters==0.3.0\n",
      "langgraph==0.2.22\n",
      "langgraph-checkpoint==1.0.10\n",
      "langsmith==0.1.121\n",
      "llama-cloud==0.0.17\n",
      "llama-index==0.11.10\n",
      "llama-index-agent-lats==0.2.1\n",
      "llama-index-agent-openai==0.3.1\n",
      "llama-index-cli==0.3.1\n",
      "llama-index-core==0.11.10\n",
      "llama-index-embeddings-huggingface==0.3.1\n",
      "llama-index-embeddings-langchain==0.2.1\n",
      "llama-index-embeddings-ollama==0.3.1\n",
      "llama-index-embeddings-openai==0.2.5\n",
      "llama-index-extractors-entity==0.2.1\n",
      "llama-index-indices-managed-llama-cloud==0.3.1\n",
      "llama-index-legacy==0.9.48.post3\n",
      "llama-index-llms-langchain==0.4.1\n",
      "llama-index-llms-llama-cpp==0.2.2\n",
      "llama-index-llms-ollama==0.3.2\n",
      "llama-index-llms-openai==0.2.7\n",
      "llama-index-multi-modal-llms-openai==0.2.1\n",
      "llama-index-packs-agents-coa==0.2.0\n",
      "llama-index-program-openai==0.2.0\n",
      "llama-index-question-gen-openai==0.2.0\n",
      "llama-index-readers-file==0.2.1\n",
      "llama-index-readers-json==0.2.0\n",
      "llama-index-readers-llama-parse==0.3.0\n",
      "llama-index-vector-stores-chroma==0.2.0\n",
      "llama-index-vector-stores-faiss==0.2.1\n",
      "llama-parse==0.5.5\n",
      "llama_cpp_python==0.2.90\n",
      "markdown-it-py==3.0.0\n",
      "MarkupSafe==2.1.5\n",
      "marshmallow==3.22.0\n",
      "matplotlib==3.9.2\n",
      "matplotlib-inline==0.1.7\n",
      "mdurl==0.1.2\n",
      "minijinja==2.2.0\n",
      "mmh3==4.1.0\n",
      "monotonic==1.6\n",
      "mpmath==1.3.0\n",
      "msgpack==1.1.0\n",
      "multidict==6.1.0\n",
      "multiprocess==0.70.16\n",
      "mypy-extensions==1.0.0\n",
      "nest-asyncio==1.6.0\n",
      "networkx==3.3\n",
      "nltk==3.9.1\n",
      "numpy==1.26.4\n",
      "oauthlib==3.2.2\n",
      "ollama==0.3.3\n",
      "onnxruntime==1.19.2\n",
      "openai==1.45.1\n",
      "opentelemetry-api==1.27.0\n",
      "opentelemetry-exporter-otlp-proto-common==1.27.0\n",
      "opentelemetry-exporter-otlp-proto-grpc==1.27.0\n",
      "opentelemetry-instrumentation==0.48b0\n",
      "opentelemetry-instrumentation-asgi==0.48b0\n",
      "opentelemetry-instrumentation-fastapi==0.48b0\n",
      "opentelemetry-proto==1.27.0\n",
      "opentelemetry-sdk==1.27.0\n",
      "opentelemetry-semantic-conventions==0.48b0\n",
      "opentelemetry-util-http==0.48b0\n",
      "orjson==3.10.7\n",
      "overrides==7.7.0\n",
      "packaging==24.1\n",
      "pandas==2.2.2\n",
      "parameterized==0.9.0\n",
      "parso==0.8.4\n",
      "pexpect==4.9.0\n",
      "pillow==10.4.0\n",
      "platformdirs==4.3.3\n",
      "posthog==3.6.6\n",
      "prompt_toolkit==3.0.47\n",
      "protobuf==4.25.4\n",
      "psutil==6.0.0\n",
      "ptyprocess==0.7.0\n",
      "pure_eval==0.2.3\n",
      "pyarrow==17.0.0\n",
      "pyasn1==0.6.1\n",
      "pyasn1_modules==0.4.1\n",
      "pydantic==2.9.1\n",
      "pydantic-settings==2.5.2\n",
      "pydantic_core==2.23.3\n",
      "Pygments==2.18.0\n",
      "pyparsing==3.1.4\n",
      "pypdf==4.3.1\n",
      "PyPika==0.48.9\n",
      "pyproject_hooks==1.1.0\n",
      "python-dateutil==2.9.0.post0\n",
      "python-dotenv==1.0.1\n",
      "pytz==2024.2\n",
      "PyYAML==6.0.2\n",
      "pyzmq==26.2.0\n",
      "regex==2024.9.11\n",
      "requests==2.32.3\n",
      "requests-oauthlib==2.0.0\n",
      "rich==13.8.1\n",
      "rsa==4.9\n",
      "s3transfer==0.10.2\n",
      "safetensors==0.4.5\n",
      "scikit-learn==1.5.2\n",
      "scipy==1.14.1\n",
      "sentence-transformers==3.1.0\n",
      "seqeval==1.2.2\n",
      "shellingham==1.5.4\n",
      "six==1.16.0\n",
      "sniffio==1.3.1\n",
      "soupsieve==2.6\n",
      "span-marker==1.5.0\n",
      "SQLAlchemy==2.0.35\n",
      "stack-data==0.6.3\n",
      "starlette==0.38.5\n",
      "striprtf==0.0.26\n",
      "sympy==1.13.2\n",
      "tabulate==0.9.0\n",
      "tenacity==8.5.0\n",
      "threadpoolctl==3.5.0\n",
      "tiktoken==0.7.0\n",
      "tokenizers==0.19.1\n",
      "tomli==2.0.1\n",
      "torch==2.4.1\n",
      "tornado==6.4.1\n",
      "tqdm==4.66.5\n",
      "traitlets==5.14.3\n",
      "-e git+ssh://git@github.com/Michiel-DK/transcripts_rag.git@0ea454b5e14ed3203b263e01f88fa7a7ef096228#egg=transcripts_rag\n",
      "transformers==4.44.2\n",
      "typer==0.12.5\n",
      "types-requests==2.32.0.20240914\n",
      "typing-inspect==0.9.0\n",
      "typing_extensions==4.12.2\n",
      "tzdata==2024.1\n",
      "urllib3==2.2.3\n",
      "uvicorn==0.30.6\n",
      "uvloop==0.20.0\n",
      "watchfiles==0.24.0\n",
      "wcwidth==0.2.13\n",
      "websocket-client==1.8.0\n",
      "websockets==13.0.1\n",
      "wrapt==1.16.0\n",
      "xxhash==3.5.0\n",
      "yarl==1.11.1\n",
      "zipp==3.20.2\n"
     ]
    }
   ],
   "source": [
    "!pip freeze G llama"
   ]
  },
  {
   "cell_type": "code",
   "execution_count": 23,
   "metadata": {},
   "outputs": [],
   "source": [
    "\n",
    "# needs llama_index-packs-agents-coa\n",
    "from llama_index.packs.agents_coa import CoAAgentPack\n",
    "\n",
    "pack = CoAAgentPack(tools=query_engine_tools, llm=Settings.llm)"
   ]
  },
  {
   "cell_type": "code",
   "execution_count": 26,
   "metadata": {},
   "outputs": [
    {
     "data": {
      "text/plain": [
       "LangChainLLM(callback_manager=<llama_index.core.callbacks.base.CallbackManager object at 0x28e415360>, system_prompt=None, messages_to_prompt=<function messages_to_prompt at 0x16a189360>, completion_to_prompt=<function default_completion_to_prompt at 0x16a3a2710>, output_parser=None, pydantic_program_mode=<PydanticProgramMode.DEFAULT: 'default'>, query_wrapper_prompt=None)"
      ]
     },
     "execution_count": 26,
     "metadata": {},
     "output_type": "execute_result"
    }
   ],
   "source": [
    "Settings.llm"
   ]
  },
  {
   "cell_type": "code",
   "execution_count": 24,
   "metadata": {},
   "outputs": [
    {
     "name": "stdout",
     "output_type": "stream",
     "text": [
      "==== Available Parsed Functions ====\n",
      "def lyft_10k(input: string):\n",
      "   \"\"\"Provides information about Lyft financials for year 2021. Use a detailed plain text question as input to the tool. The input is used to power a semantic search engine.\"\"\"\n",
      "    ...\n",
      "def uber_10k(input: string):\n",
      "   \"\"\"Provides information about Uber financials for year 2021. Use a detailed plain text question as input to the tool. The input is used to power a semantic search engine.\"\"\"\n",
      "    ...\n",
      "==== Generated Chain of Abstraction ====\n",
      "Abstract plan of reasoning:\n",
      "To answer the question, we need to compare the revenue growth of Uber and Lyft in 2021. We will first get the revenue information for Lyft in 2021 by asking [FUNC lyft_10k(\"What was Lyft's revenue in 2021 and how did it change from 2020 to 2021?\") = y1]. Then, we will get the revenue information for Uber in 2021 by asking [FUNC uber_10k(\"What was Uber's revenue in 2021 and how did it change from 2020 to 2021?\") = y2]. Finally, we will compare the revenue growth of Uber and Lyft in 2021 by calculating the difference between y2 and y1.\n",
      "==== Executing lyft_10k with inputs [\"What was Lyft's revenue in 2021 and how did it change from 2020 to 2021?\"] ====\n",
      "==== Executing uber_10k with inputs [\"What was Uber's revenue in 2021 and how did it change from 2020 to 2021?\"] ====\n"
     ]
    }
   ],
   "source": [
    "import nest_asyncio\n",
    "nest_asyncio.apply()\n",
    "response = pack.run(\"How did Ubers revenue growth compare to Lyfts in 2021?\")"
   ]
  },
  {
   "cell_type": "code",
   "execution_count": 14,
   "metadata": {},
   "outputs": [
    {
     "name": "stdout",
     "output_type": "stream",
     "text": [
      "Based on the previous reasoning, we can conclude that Lyft's revenue growth in 2021 was 36% compared to 2020. However, due to the lack of explicit information about Uber's total revenue in 2021, we cannot accurately compare the revenue growth of Uber and Lyft in 2021. We can only infer that Uber's revenue in 2021 was lower than in 2020, with a significant decrease in All Other revenue, but the exact amount of the decrease is not specified.\n"
     ]
    }
   ],
   "source": [
    "print(str(response))\n"
   ]
  },
  {
   "cell_type": "code",
   "execution_count": null,
   "metadata": {},
   "outputs": [],
   "source": []
  }
 ],
 "metadata": {
  "kernelspec": {
   "display_name": "transcripts_rag",
   "language": "python",
   "name": "python3"
  },
  "language_info": {
   "codemirror_mode": {
    "name": "ipython",
    "version": 3
   },
   "file_extension": ".py",
   "mimetype": "text/x-python",
   "name": "python",
   "nbconvert_exporter": "python",
   "pygments_lexer": "ipython3",
   "version": "3.10.6"
  }
 },
 "nbformat": 4,
 "nbformat_minor": 2
}
